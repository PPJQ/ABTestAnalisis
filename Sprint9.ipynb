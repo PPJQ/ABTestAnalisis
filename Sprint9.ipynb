{
 "cells": [
  {
   "cell_type": "markdown",
   "metadata": {},
   "source": [
    "# <a id='toc1_'></a>[Análisis Tienda en Linea](#toc0_)\n",
    "\n",
    "## <a id='toc1_1_'></a>[Contexto:](#toc0_)\n",
    "\n",
    "Eres analista en una gran tienda en línea. Junto con el departamento de marketing has recopilado una lista de hipótesis que pueden ayudar a aumentar los ingresos.\n",
    "\n",
    "Tienes que priorizar estas hipótesis, lanzar un test A/B y analizar los resultados.\n",
    "\n",
    "## <a id='toc1_2_'></a>[Tabla de contenidos](#toc0_)\n",
    "\n",
    "- [Análisis Tienda en Linea](#toc1_)    \n",
    "  - [Contexto:](#toc1_1_)    \n",
    "  - [Tabla de contenidos](#toc1_2_)    \n",
    "- [Introducción](#toc2_)    \n",
    "- [Preparación para el Análisis](#toc3_)    \n",
    "- [Priorizar Hipótesis](#toc4_)    \n",
    "  - [Framework ICE](#toc4_1_)    \n",
    "  - [Framework RICE](#toc4_2_)    \n",
    "- [Análisis de test A/B](#toc5_)    \n",
    "  - [Ingresos acumulados por grupo](#toc5_1_)    \n",
    "  - [Tamaño de pedidos acumulados por grupo](#toc5_2_)    \n",
    "  - [Diferencia relativa en el tamaño de pedido](#toc5_3_)    \n",
    "  - [Tasa de Conversión de cada grupo](#toc5_4_)    \n",
    "  - [Gráficando el numero de pedidos por usuario](#toc5_5_)    \n",
    "  - [Calculo de percentiles 95 y 99 para el numero de pedidos por usuario](#toc5_6_)    \n",
    "  - [Gráficando precio de pedidos](#toc5_7_)    \n",
    "  - [Calculo de Percentiles 95 y 99 para el precio de pedido](#toc5_8_)    \n",
    "  - [Significancia estadística de la diferencia en la conversión de los dos grupos (Datos en Bruto)](#toc5_9_)    \n",
    "  - [Significancia estadística de la diferencia en el tamaño promedio entre los grupos (Datos en bruto)](#toc5_10_)    \n",
    "  - [Significancia estadística de la diferencia en la conversión de los dos grupos (Datos filtrados)](#toc5_11_)    \n",
    "  - [Significancia estadística de la diferencia en el tamaño promedio entre los grupos (Datos en filtrados)](#toc5_12_)    \n",
    "- [Conclusiones](#toc6_)    \n",
    "\n",
    "<!-- vscode-jupyter-toc-config\n",
    "\tnumbering=false\n",
    "\tanchor=true\n",
    "\tflat=false\n",
    "\tminLevel=1\n",
    "\tmaxLevel=6\n",
    "\t/vscode-jupyter-toc-config -->\n",
    "<!-- THIS CELL WILL BE REPLACED ON TOC UPDATE. DO NOT WRITE YOUR TEXT IN THIS CELL -->\n",
    "\n",
    "# <a id='toc2_'></a>[Introducción](#toc0_)\n",
    "\n",
    "Una tienda en linea genero una lista de hipótesis que pueden ayudar a aumentar los ingresos por lo que solicita que se priorice la lista para tomar la decisión de que hipótesis probar en un test A/B. \n",
    "\n",
    "Después de realizar la prueba A/B analizaremos los resultados y observaremos si comprueba la hipótesis.\n",
    "\n",
    "Este proyecto se desglosara en dos partes.\n",
    "\n",
    "1. Priorizar hipótesis \n",
    "2. Análisis de test A/B\n",
    "\n",
    "Conforme vayamos avanzando en el proyecto iremos explicando dichas partes.\n",
    "\n",
    "# <a id='toc3_'></a>[Preparación para el Análisis](#toc0_)\n",
    "\n",
    "En este apartado cargaremos la librerías necesarias para la elaboración de este proyecto."
   ]
  },
  {
   "cell_type": "code",
   "execution_count": 1,
   "metadata": {},
   "outputs": [],
   "source": [
    "# Cargando las librerías\n",
    "import pandas as pd\n",
    "import scipy.stats as stats\n",
    "import datetime as dt\n",
    "import numpy as np\n",
    "import matplotlib.pyplot as plt"
   ]
  },
  {
   "cell_type": "markdown",
   "metadata": {},
   "source": [
    "Una vez cargadas procedemos a la primera parte.\n",
    "\n",
    "# <a id='toc4_'></a>[Priorizar Hipótesis](#toc0_)\n",
    "\n",
    "Para esta parte vamos a hacer uso del archivo `hypotheses_us.csv` el cual contiene la siguiente información: \n",
    "\n",
    "`hypotheses_us.csv`:\n",
    "\n",
    "- `Hypotheses`: breves descripciones de las hipótesis\n",
    "- `Reach`: alcance del usuario, en una escala del uno a diez\n",
    "- `Impact`: impacto en los usuarios, en una escala del uno al diez\n",
    "- `Confidence`: confianza en la hipótesis, en una escala del uno al diez\n",
    "- `Effort`: los recursos necesarios para probar una hipótesis, en una escala del uno al diez. Cuanto mayor sea el valor `Effort`, más recursos requiere la prueba."
   ]
  },
  {
   "cell_type": "code",
   "execution_count": 2,
   "metadata": {},
   "outputs": [
    {
     "name": "stdout",
     "output_type": "stream",
     "text": [
      "<class 'pandas.core.frame.DataFrame'>\n",
      "RangeIndex: 9 entries, 0 to 8\n",
      "Data columns (total 5 columns):\n",
      " #   Column      Non-Null Count  Dtype \n",
      "---  ------      --------------  ----- \n",
      " 0   Hypothesis  9 non-null      object\n",
      " 1   Reach       9 non-null      int64 \n",
      " 2   Impact      9 non-null      int64 \n",
      " 3   Confidence  9 non-null      int64 \n",
      " 4   Effort      9 non-null      int64 \n",
      "dtypes: int64(4), object(1)\n",
      "memory usage: 488.0+ bytes\n",
      "None\n"
     ]
    },
    {
     "data": {
      "text/html": [
       "<div>\n",
       "<style scoped>\n",
       "    .dataframe tbody tr th:only-of-type {\n",
       "        vertical-align: middle;\n",
       "    }\n",
       "\n",
       "    .dataframe tbody tr th {\n",
       "        vertical-align: top;\n",
       "    }\n",
       "\n",
       "    .dataframe thead th {\n",
       "        text-align: right;\n",
       "    }\n",
       "</style>\n",
       "<table border=\"1\" class=\"dataframe\">\n",
       "  <thead>\n",
       "    <tr style=\"text-align: right;\">\n",
       "      <th></th>\n",
       "      <th>Hypothesis</th>\n",
       "      <th>Reach</th>\n",
       "      <th>Impact</th>\n",
       "      <th>Confidence</th>\n",
       "      <th>Effort</th>\n",
       "    </tr>\n",
       "  </thead>\n",
       "  <tbody>\n",
       "    <tr>\n",
       "      <th>0</th>\n",
       "      <td>Add two new channels for attracting traffic. T...</td>\n",
       "      <td>3</td>\n",
       "      <td>10</td>\n",
       "      <td>8</td>\n",
       "      <td>6</td>\n",
       "    </tr>\n",
       "    <tr>\n",
       "      <th>1</th>\n",
       "      <td>Launch your own delivery service. This will sh...</td>\n",
       "      <td>2</td>\n",
       "      <td>5</td>\n",
       "      <td>4</td>\n",
       "      <td>10</td>\n",
       "    </tr>\n",
       "    <tr>\n",
       "      <th>2</th>\n",
       "      <td>Add product recommendation blocks to the store...</td>\n",
       "      <td>8</td>\n",
       "      <td>3</td>\n",
       "      <td>7</td>\n",
       "      <td>3</td>\n",
       "    </tr>\n",
       "    <tr>\n",
       "      <th>3</th>\n",
       "      <td>Change the category structure. This will incre...</td>\n",
       "      <td>8</td>\n",
       "      <td>3</td>\n",
       "      <td>3</td>\n",
       "      <td>8</td>\n",
       "    </tr>\n",
       "    <tr>\n",
       "      <th>4</th>\n",
       "      <td>Change the background color on the main page. ...</td>\n",
       "      <td>3</td>\n",
       "      <td>1</td>\n",
       "      <td>1</td>\n",
       "      <td>1</td>\n",
       "    </tr>\n",
       "  </tbody>\n",
       "</table>\n",
       "</div>"
      ],
      "text/plain": [
       "                                          Hypothesis  Reach  Impact  \\\n",
       "0  Add two new channels for attracting traffic. T...      3      10   \n",
       "1  Launch your own delivery service. This will sh...      2       5   \n",
       "2  Add product recommendation blocks to the store...      8       3   \n",
       "3  Change the category structure. This will incre...      8       3   \n",
       "4  Change the background color on the main page. ...      3       1   \n",
       "\n",
       "   Confidence  Effort  \n",
       "0           8       6  \n",
       "1           4      10  \n",
       "2           7       3  \n",
       "3           3       8  \n",
       "4           1       1  "
      ]
     },
     "execution_count": 2,
     "metadata": {},
     "output_type": "execute_result"
    }
   ],
   "source": [
    "# Cargando el archivo \"hypotheses_us.csv\"\n",
    "hypotheses = pd.read_csv('./datasets/hypotheses_us.csv', sep=';')\n",
    "print(hypotheses.info())\n",
    "hypotheses.head()"
   ]
  },
  {
   "cell_type": "markdown",
   "metadata": {},
   "source": [
    "Como podemos observar en los datos del archivo proporcionados, contamos con 9 hipótesis, cada una de ellas tiene un puntaje de \"Alcance(Reach)\", \"Impacto(Impact)\", \"Confianza(Confidence)\" y \"Esfuerzo(Effort)\". Sin embargo antes de empezar a calcular la prioridad por hipótesis, aplicaremos las buenas practicas y cambiaremos los nombres de las columnas a que todos sus caracteres sean minúsculas."
   ]
  },
  {
   "cell_type": "code",
   "execution_count": 3,
   "metadata": {},
   "outputs": [
    {
     "data": {
      "text/plain": [
       "Index(['hypothesis', 'reach', 'impact', 'confidence', 'effort'], dtype='object')"
      ]
     },
     "execution_count": 3,
     "metadata": {},
     "output_type": "execute_result"
    }
   ],
   "source": [
    "# Cambiando los nombres de las columnas a minúsculas:\n",
    "hypotheses.columns = ['hypothesis', 'reach', 'impact', 'confidence', 'effort']\n",
    "hypotheses.columns"
   ]
  },
  {
   "cell_type": "markdown",
   "metadata": {},
   "source": [
    "Una vez corroborado esta cambio podemos proceder a priorizar las hipótesis.\n",
    "\n",
    "Para poder priorizar las 9 hipótesis listadas en la base de datos usaremos dos frameworks; \"ICE\" y \"RICE\".\n",
    "\n",
    "## <a id='toc4_1_'></a>[Framework ICE](#toc0_)\n",
    "\n",
    "De acuerdo a este método, nosotros podemos calcular el puntaje ICE aplicando la siguiente formula:\n",
    "\n",
    "$\\frac{Impacto(Impact) * Confianza(confidence)}{Esfuerzo(Effort)}$\n",
    "\n",
    "Aclarado esto procedemos a calcular el puntaje ICE de la base de datos proporcionada.\n",
    "\n",
    "**NOTA**: Dejaremos el nombre de la columna en mayúsculas en este caso para identificarla con mayor facilidad. "
   ]
  },
  {
   "cell_type": "code",
   "execution_count": 4,
   "metadata": {},
   "outputs": [
    {
     "data": {
      "text/html": [
       "<div>\n",
       "<style scoped>\n",
       "    .dataframe tbody tr th:only-of-type {\n",
       "        vertical-align: middle;\n",
       "    }\n",
       "\n",
       "    .dataframe tbody tr th {\n",
       "        vertical-align: top;\n",
       "    }\n",
       "\n",
       "    .dataframe thead th {\n",
       "        text-align: right;\n",
       "    }\n",
       "</style>\n",
       "<table border=\"1\" class=\"dataframe\">\n",
       "  <thead>\n",
       "    <tr style=\"text-align: right;\">\n",
       "      <th></th>\n",
       "      <th>hypothesis</th>\n",
       "      <th>ICE</th>\n",
       "    </tr>\n",
       "  </thead>\n",
       "  <tbody>\n",
       "    <tr>\n",
       "      <th>8</th>\n",
       "      <td>Launch a promotion that gives users discounts ...</td>\n",
       "      <td>16.200000</td>\n",
       "    </tr>\n",
       "    <tr>\n",
       "      <th>0</th>\n",
       "      <td>Add two new channels for attracting traffic. T...</td>\n",
       "      <td>13.333333</td>\n",
       "    </tr>\n",
       "    <tr>\n",
       "      <th>7</th>\n",
       "      <td>Add a subscription form to all the main pages....</td>\n",
       "      <td>11.200000</td>\n",
       "    </tr>\n",
       "    <tr>\n",
       "      <th>6</th>\n",
       "      <td>Show banners with current offers and sales on ...</td>\n",
       "      <td>8.000000</td>\n",
       "    </tr>\n",
       "    <tr>\n",
       "      <th>2</th>\n",
       "      <td>Add product recommendation blocks to the store...</td>\n",
       "      <td>7.000000</td>\n",
       "    </tr>\n",
       "    <tr>\n",
       "      <th>1</th>\n",
       "      <td>Launch your own delivery service. This will sh...</td>\n",
       "      <td>2.000000</td>\n",
       "    </tr>\n",
       "    <tr>\n",
       "      <th>5</th>\n",
       "      <td>Add a customer review page. This will increase...</td>\n",
       "      <td>1.333333</td>\n",
       "    </tr>\n",
       "    <tr>\n",
       "      <th>3</th>\n",
       "      <td>Change the category structure. This will incre...</td>\n",
       "      <td>1.125000</td>\n",
       "    </tr>\n",
       "    <tr>\n",
       "      <th>4</th>\n",
       "      <td>Change the background color on the main page. ...</td>\n",
       "      <td>1.000000</td>\n",
       "    </tr>\n",
       "  </tbody>\n",
       "</table>\n",
       "</div>"
      ],
      "text/plain": [
       "                                          hypothesis        ICE\n",
       "8  Launch a promotion that gives users discounts ...  16.200000\n",
       "0  Add two new channels for attracting traffic. T...  13.333333\n",
       "7  Add a subscription form to all the main pages....  11.200000\n",
       "6  Show banners with current offers and sales on ...   8.000000\n",
       "2  Add product recommendation blocks to the store...   7.000000\n",
       "1  Launch your own delivery service. This will sh...   2.000000\n",
       "5  Add a customer review page. This will increase...   1.333333\n",
       "3  Change the category structure. This will incre...   1.125000\n",
       "4  Change the background color on the main page. ...   1.000000"
      ]
     },
     "metadata": {},
     "output_type": "display_data"
    }
   ],
   "source": [
    "# Calculando ICE\n",
    "hypotheses['ICE'] = (hypotheses['impact']*hypotheses['confidence'])/hypotheses['effort']\n",
    "\n",
    "# Mostramos la hipótesis y su puntaje de ICE\n",
    "display(hypotheses[['hypothesis', 'ICE']].sort_values(by='ICE', ascending=False))"
   ]
  },
  {
   "cell_type": "markdown",
   "metadata": {},
   "source": [
    "Como podemos ver en la tabla anterior, vemos que la hipótesis \"Lanzar una promoción que ofrezca descuentos a los usuarios en sus cumpleaños (Launch a promotion that gives users discounts on their birthdays)\" es la hipótesis con mayor prioridad alcanzando 16.20 puntos de acuerdo al Framework ICE.\n",
    "\n",
    "## <a id='toc4_2_'></a>[Framework RICE](#toc0_)\n",
    "\n",
    "Ahora procederemos a calcular el puntaje de RICE, para ello necesitaremos la siguiente formula:\n",
    "\n",
    "$\\frac{Alcance(Reach) * Impacto(Impact) * Confianza(confidence)}{Esfuerzo(Effort)}$\n",
    "\n",
    "**NOTA**: Al igual que con la columna \"ICE\", dejaremos en mayúsculas el nombre de la columna para \"RICE\""
   ]
  },
  {
   "cell_type": "code",
   "execution_count": 5,
   "metadata": {},
   "outputs": [
    {
     "data": {
      "text/html": [
       "<div>\n",
       "<style scoped>\n",
       "    .dataframe tbody tr th:only-of-type {\n",
       "        vertical-align: middle;\n",
       "    }\n",
       "\n",
       "    .dataframe tbody tr th {\n",
       "        vertical-align: top;\n",
       "    }\n",
       "\n",
       "    .dataframe thead th {\n",
       "        text-align: right;\n",
       "    }\n",
       "</style>\n",
       "<table border=\"1\" class=\"dataframe\">\n",
       "  <thead>\n",
       "    <tr style=\"text-align: right;\">\n",
       "      <th></th>\n",
       "      <th>hypothesis</th>\n",
       "      <th>RICE</th>\n",
       "    </tr>\n",
       "  </thead>\n",
       "  <tbody>\n",
       "    <tr>\n",
       "      <th>7</th>\n",
       "      <td>Add a subscription form to all the main pages....</td>\n",
       "      <td>112.0</td>\n",
       "    </tr>\n",
       "    <tr>\n",
       "      <th>2</th>\n",
       "      <td>Add product recommendation blocks to the store...</td>\n",
       "      <td>56.0</td>\n",
       "    </tr>\n",
       "    <tr>\n",
       "      <th>0</th>\n",
       "      <td>Add two new channels for attracting traffic. T...</td>\n",
       "      <td>40.0</td>\n",
       "    </tr>\n",
       "    <tr>\n",
       "      <th>6</th>\n",
       "      <td>Show banners with current offers and sales on ...</td>\n",
       "      <td>40.0</td>\n",
       "    </tr>\n",
       "    <tr>\n",
       "      <th>8</th>\n",
       "      <td>Launch a promotion that gives users discounts ...</td>\n",
       "      <td>16.2</td>\n",
       "    </tr>\n",
       "    <tr>\n",
       "      <th>3</th>\n",
       "      <td>Change the category structure. This will incre...</td>\n",
       "      <td>9.0</td>\n",
       "    </tr>\n",
       "    <tr>\n",
       "      <th>1</th>\n",
       "      <td>Launch your own delivery service. This will sh...</td>\n",
       "      <td>4.0</td>\n",
       "    </tr>\n",
       "    <tr>\n",
       "      <th>5</th>\n",
       "      <td>Add a customer review page. This will increase...</td>\n",
       "      <td>4.0</td>\n",
       "    </tr>\n",
       "    <tr>\n",
       "      <th>4</th>\n",
       "      <td>Change the background color on the main page. ...</td>\n",
       "      <td>3.0</td>\n",
       "    </tr>\n",
       "  </tbody>\n",
       "</table>\n",
       "</div>"
      ],
      "text/plain": [
       "                                          hypothesis   RICE\n",
       "7  Add a subscription form to all the main pages....  112.0\n",
       "2  Add product recommendation blocks to the store...   56.0\n",
       "0  Add two new channels for attracting traffic. T...   40.0\n",
       "6  Show banners with current offers and sales on ...   40.0\n",
       "8  Launch a promotion that gives users discounts ...   16.2\n",
       "3  Change the category structure. This will incre...    9.0\n",
       "1  Launch your own delivery service. This will sh...    4.0\n",
       "5  Add a customer review page. This will increase...    4.0\n",
       "4  Change the background color on the main page. ...    3.0"
      ]
     },
     "metadata": {},
     "output_type": "display_data"
    }
   ],
   "source": [
    "# Calculando RICE\n",
    "hypotheses['RICE'] = (hypotheses['reach']*hypotheses['impact']*hypotheses['confidence'])/hypotheses['effort']\n",
    "\n",
    "# Mostramos la hipótesis y su puntaje de RICE\n",
    "display(hypotheses[['hypothesis', 'RICE']].sort_values(by='RICE', ascending=False))"
   ]
  },
  {
   "cell_type": "markdown",
   "metadata": {},
   "source": [
    "En este caso la hipótesis con mayor prioridad seria \"Añada un formulario de suscripción a todas las páginas principales. Esto le ayudará a compilar una lista de correos.(Add a subscription form to all the main pages. This will help you compile a mailing list)\" con un puntaje de RICE de 112. \n",
    "\n",
    "A continuación mostraremos ambos resultados:"
   ]
  },
  {
   "cell_type": "code",
   "execution_count": 6,
   "metadata": {},
   "outputs": [
    {
     "data": {
      "text/html": [
       "<div>\n",
       "<style scoped>\n",
       "    .dataframe tbody tr th:only-of-type {\n",
       "        vertical-align: middle;\n",
       "    }\n",
       "\n",
       "    .dataframe tbody tr th {\n",
       "        vertical-align: top;\n",
       "    }\n",
       "\n",
       "    .dataframe thead th {\n",
       "        text-align: right;\n",
       "    }\n",
       "</style>\n",
       "<table border=\"1\" class=\"dataframe\">\n",
       "  <thead>\n",
       "    <tr style=\"text-align: right;\">\n",
       "      <th></th>\n",
       "      <th>hypothesis</th>\n",
       "      <th>ICE</th>\n",
       "    </tr>\n",
       "  </thead>\n",
       "  <tbody>\n",
       "    <tr>\n",
       "      <th>8</th>\n",
       "      <td>Launch a promotion that gives users discounts ...</td>\n",
       "      <td>16.200000</td>\n",
       "    </tr>\n",
       "    <tr>\n",
       "      <th>0</th>\n",
       "      <td>Add two new channels for attracting traffic. T...</td>\n",
       "      <td>13.333333</td>\n",
       "    </tr>\n",
       "    <tr>\n",
       "      <th>7</th>\n",
       "      <td>Add a subscription form to all the main pages....</td>\n",
       "      <td>11.200000</td>\n",
       "    </tr>\n",
       "    <tr>\n",
       "      <th>6</th>\n",
       "      <td>Show banners with current offers and sales on ...</td>\n",
       "      <td>8.000000</td>\n",
       "    </tr>\n",
       "    <tr>\n",
       "      <th>2</th>\n",
       "      <td>Add product recommendation blocks to the store...</td>\n",
       "      <td>7.000000</td>\n",
       "    </tr>\n",
       "    <tr>\n",
       "      <th>1</th>\n",
       "      <td>Launch your own delivery service. This will sh...</td>\n",
       "      <td>2.000000</td>\n",
       "    </tr>\n",
       "    <tr>\n",
       "      <th>5</th>\n",
       "      <td>Add a customer review page. This will increase...</td>\n",
       "      <td>1.333333</td>\n",
       "    </tr>\n",
       "    <tr>\n",
       "      <th>3</th>\n",
       "      <td>Change the category structure. This will incre...</td>\n",
       "      <td>1.125000</td>\n",
       "    </tr>\n",
       "    <tr>\n",
       "      <th>4</th>\n",
       "      <td>Change the background color on the main page. ...</td>\n",
       "      <td>1.000000</td>\n",
       "    </tr>\n",
       "  </tbody>\n",
       "</table>\n",
       "</div>"
      ],
      "text/plain": [
       "                                          hypothesis        ICE\n",
       "8  Launch a promotion that gives users discounts ...  16.200000\n",
       "0  Add two new channels for attracting traffic. T...  13.333333\n",
       "7  Add a subscription form to all the main pages....  11.200000\n",
       "6  Show banners with current offers and sales on ...   8.000000\n",
       "2  Add product recommendation blocks to the store...   7.000000\n",
       "1  Launch your own delivery service. This will sh...   2.000000\n",
       "5  Add a customer review page. This will increase...   1.333333\n",
       "3  Change the category structure. This will incre...   1.125000\n",
       "4  Change the background color on the main page. ...   1.000000"
      ]
     },
     "metadata": {},
     "output_type": "display_data"
    },
    {
     "data": {
      "text/html": [
       "<div>\n",
       "<style scoped>\n",
       "    .dataframe tbody tr th:only-of-type {\n",
       "        vertical-align: middle;\n",
       "    }\n",
       "\n",
       "    .dataframe tbody tr th {\n",
       "        vertical-align: top;\n",
       "    }\n",
       "\n",
       "    .dataframe thead th {\n",
       "        text-align: right;\n",
       "    }\n",
       "</style>\n",
       "<table border=\"1\" class=\"dataframe\">\n",
       "  <thead>\n",
       "    <tr style=\"text-align: right;\">\n",
       "      <th></th>\n",
       "      <th>hypothesis</th>\n",
       "      <th>RICE</th>\n",
       "    </tr>\n",
       "  </thead>\n",
       "  <tbody>\n",
       "    <tr>\n",
       "      <th>7</th>\n",
       "      <td>Add a subscription form to all the main pages....</td>\n",
       "      <td>112.0</td>\n",
       "    </tr>\n",
       "    <tr>\n",
       "      <th>2</th>\n",
       "      <td>Add product recommendation blocks to the store...</td>\n",
       "      <td>56.0</td>\n",
       "    </tr>\n",
       "    <tr>\n",
       "      <th>0</th>\n",
       "      <td>Add two new channels for attracting traffic. T...</td>\n",
       "      <td>40.0</td>\n",
       "    </tr>\n",
       "    <tr>\n",
       "      <th>6</th>\n",
       "      <td>Show banners with current offers and sales on ...</td>\n",
       "      <td>40.0</td>\n",
       "    </tr>\n",
       "    <tr>\n",
       "      <th>8</th>\n",
       "      <td>Launch a promotion that gives users discounts ...</td>\n",
       "      <td>16.2</td>\n",
       "    </tr>\n",
       "    <tr>\n",
       "      <th>3</th>\n",
       "      <td>Change the category structure. This will incre...</td>\n",
       "      <td>9.0</td>\n",
       "    </tr>\n",
       "    <tr>\n",
       "      <th>1</th>\n",
       "      <td>Launch your own delivery service. This will sh...</td>\n",
       "      <td>4.0</td>\n",
       "    </tr>\n",
       "    <tr>\n",
       "      <th>5</th>\n",
       "      <td>Add a customer review page. This will increase...</td>\n",
       "      <td>4.0</td>\n",
       "    </tr>\n",
       "    <tr>\n",
       "      <th>4</th>\n",
       "      <td>Change the background color on the main page. ...</td>\n",
       "      <td>3.0</td>\n",
       "    </tr>\n",
       "  </tbody>\n",
       "</table>\n",
       "</div>"
      ],
      "text/plain": [
       "                                          hypothesis   RICE\n",
       "7  Add a subscription form to all the main pages....  112.0\n",
       "2  Add product recommendation blocks to the store...   56.0\n",
       "0  Add two new channels for attracting traffic. T...   40.0\n",
       "6  Show banners with current offers and sales on ...   40.0\n",
       "8  Launch a promotion that gives users discounts ...   16.2\n",
       "3  Change the category structure. This will incre...    9.0\n",
       "1  Launch your own delivery service. This will sh...    4.0\n",
       "5  Add a customer review page. This will increase...    4.0\n",
       "4  Change the background color on the main page. ...    3.0"
      ]
     },
     "metadata": {},
     "output_type": "display_data"
    }
   ],
   "source": [
    "# Mostramos la hipótesis y su puntaje de ICE\n",
    "display(hypotheses[['hypothesis', 'ICE']].sort_values(by='ICE', ascending=False))\n",
    "# Mostramos la hipótesis y su puntaje de RICE\n",
    "display(hypotheses[['hypothesis', 'RICE']].sort_values(by='RICE', ascending=False))"
   ]
  },
  {
   "cell_type": "markdown",
   "metadata": {},
   "source": [
    "Explicando un poco estos resultados retrocedemos para explicar los parámetros que se usaron para calcular estas métricas:\n",
    "\n",
    "*Reach* (Alcance): cuántos usuarios se verán afectados por la actualización que quieres introducir.\n",
    "*Impact* (Impacto): en qué medida afectará esta actualización a los usuarios, su experiencia y su satisfacción con el producto.\n",
    "*Confidence* (Confianza): qué tan seguro estás de que tu producto les afectará de esta manera.\n",
    "*Effort* (Esfuerzo): cuánto costará probar la hipótesis.\n",
    "\n",
    "La diferencia de puntajes para los dos Frameworks se debe al parámetro \"Alcance\", dado que en el método ICE no hacemos uso de este parámetro su resultado no contempla que tantos usuarios afectara esta hipótesis. Sin embargo en sus resultados la hipótesis con mayor prioridad en el Framework RICE toma el 3er lugar de prioridad, lo cual muestra una prioridad relativamente alta con 11 puntos.\n",
    "\n",
    "Si analizamos la tabla del Framework RICE, la hipótesis que quedo en primer lugar para el método ICE quedo en 8vo lugar. Teniendo presente estos hechos se decidió que la hipótesis seleccionada a realizar la prueba A/B será: \n",
    "\n",
    "**\"Añada un formulario de suscripción a todas las páginas principales. Esto le ayudará a compilar una lista de correos.(Add a subscription form to all the main pages. This will help you compile a mailing list)\"**\n",
    "\n",
    "# <a id='toc5_'></a>[Análisis de test A/B](#toc0_)\n",
    "\n",
    "Una vez definida la hipótesis a probar, se realizo una prueba A/B. Los resultados de esta prueba se almacenaron en dos archivos: `orders_us.csv` y `visits_us.csv`. Dichos archivos contienen la siguiente información:\n",
    "\n",
    "`orders_us.csv`:\n",
    "\n",
    "- `transactionId`: identificador de pedido\n",
    "- `visitorId`: identificador del usuario que realizó el pedido\n",
    "- `date`: fecha del pedido\n",
    "- `revenue`: ingresos del pedido\n",
    "- `group`: el grupo del test A/B al que pertenece el usuario\n",
    "\n",
    "`visits_us.csv`:\n",
    "\n",
    "- `date`: la fecha\n",
    "- `group`: grupo del test A/B\n",
    "- `visits`: el número de visitas en la fecha especificada para el grupo de test A/B especificado\n",
    "\n"
   ]
  },
  {
   "cell_type": "code",
   "execution_count": 7,
   "metadata": {},
   "outputs": [
    {
     "data": {
      "text/html": [
       "<div>\n",
       "<style scoped>\n",
       "    .dataframe tbody tr th:only-of-type {\n",
       "        vertical-align: middle;\n",
       "    }\n",
       "\n",
       "    .dataframe tbody tr th {\n",
       "        vertical-align: top;\n",
       "    }\n",
       "\n",
       "    .dataframe thead th {\n",
       "        text-align: right;\n",
       "    }\n",
       "</style>\n",
       "<table border=\"1\" class=\"dataframe\">\n",
       "  <thead>\n",
       "    <tr style=\"text-align: right;\">\n",
       "      <th></th>\n",
       "      <th>transactionId</th>\n",
       "      <th>visitorId</th>\n",
       "      <th>date</th>\n",
       "      <th>revenue</th>\n",
       "      <th>group</th>\n",
       "    </tr>\n",
       "  </thead>\n",
       "  <tbody>\n",
       "    <tr>\n",
       "      <th>0</th>\n",
       "      <td>3667963787</td>\n",
       "      <td>3312258926</td>\n",
       "      <td>2019-08-15</td>\n",
       "      <td>30.4</td>\n",
       "      <td>B</td>\n",
       "    </tr>\n",
       "    <tr>\n",
       "      <th>1</th>\n",
       "      <td>2804400009</td>\n",
       "      <td>3642806036</td>\n",
       "      <td>2019-08-15</td>\n",
       "      <td>15.2</td>\n",
       "      <td>B</td>\n",
       "    </tr>\n",
       "    <tr>\n",
       "      <th>2</th>\n",
       "      <td>2961555356</td>\n",
       "      <td>4069496402</td>\n",
       "      <td>2019-08-15</td>\n",
       "      <td>10.2</td>\n",
       "      <td>A</td>\n",
       "    </tr>\n",
       "    <tr>\n",
       "      <th>3</th>\n",
       "      <td>3797467345</td>\n",
       "      <td>1196621759</td>\n",
       "      <td>2019-08-15</td>\n",
       "      <td>155.1</td>\n",
       "      <td>B</td>\n",
       "    </tr>\n",
       "    <tr>\n",
       "      <th>4</th>\n",
       "      <td>2282983706</td>\n",
       "      <td>2322279887</td>\n",
       "      <td>2019-08-15</td>\n",
       "      <td>40.5</td>\n",
       "      <td>B</td>\n",
       "    </tr>\n",
       "  </tbody>\n",
       "</table>\n",
       "</div>"
      ],
      "text/plain": [
       "   transactionId   visitorId       date  revenue group\n",
       "0     3667963787  3312258926 2019-08-15     30.4     B\n",
       "1     2804400009  3642806036 2019-08-15     15.2     B\n",
       "2     2961555356  4069496402 2019-08-15     10.2     A\n",
       "3     3797467345  1196621759 2019-08-15    155.1     B\n",
       "4     2282983706  2322279887 2019-08-15     40.5     B"
      ]
     },
     "metadata": {},
     "output_type": "display_data"
    },
    {
     "data": {
      "text/html": [
       "<div>\n",
       "<style scoped>\n",
       "    .dataframe tbody tr th:only-of-type {\n",
       "        vertical-align: middle;\n",
       "    }\n",
       "\n",
       "    .dataframe tbody tr th {\n",
       "        vertical-align: top;\n",
       "    }\n",
       "\n",
       "    .dataframe thead th {\n",
       "        text-align: right;\n",
       "    }\n",
       "</style>\n",
       "<table border=\"1\" class=\"dataframe\">\n",
       "  <thead>\n",
       "    <tr style=\"text-align: right;\">\n",
       "      <th></th>\n",
       "      <th>date</th>\n",
       "      <th>group</th>\n",
       "      <th>visits</th>\n",
       "    </tr>\n",
       "  </thead>\n",
       "  <tbody>\n",
       "    <tr>\n",
       "      <th>0</th>\n",
       "      <td>2019-08-01</td>\n",
       "      <td>A</td>\n",
       "      <td>719</td>\n",
       "    </tr>\n",
       "    <tr>\n",
       "      <th>1</th>\n",
       "      <td>2019-08-02</td>\n",
       "      <td>A</td>\n",
       "      <td>619</td>\n",
       "    </tr>\n",
       "    <tr>\n",
       "      <th>2</th>\n",
       "      <td>2019-08-03</td>\n",
       "      <td>A</td>\n",
       "      <td>507</td>\n",
       "    </tr>\n",
       "    <tr>\n",
       "      <th>3</th>\n",
       "      <td>2019-08-04</td>\n",
       "      <td>A</td>\n",
       "      <td>717</td>\n",
       "    </tr>\n",
       "    <tr>\n",
       "      <th>4</th>\n",
       "      <td>2019-08-05</td>\n",
       "      <td>A</td>\n",
       "      <td>756</td>\n",
       "    </tr>\n",
       "  </tbody>\n",
       "</table>\n",
       "</div>"
      ],
      "text/plain": [
       "        date group  visits\n",
       "0 2019-08-01     A     719\n",
       "1 2019-08-02     A     619\n",
       "2 2019-08-03     A     507\n",
       "3 2019-08-04     A     717\n",
       "4 2019-08-05     A     756"
      ]
     },
     "metadata": {},
     "output_type": "display_data"
    }
   ],
   "source": [
    "# Cargando archivos\n",
    "# Ordenes\n",
    "orders = pd.read_csv('./datasets/orders_us.csv', sep=',')\n",
    "orders['date'] = orders['date'].map(lambda x: dt.datetime.strptime(x, '%Y-%m-%d'))\n",
    "# Visitas\n",
    "visitors = pd.read_csv('./datasets/visits_us.csv', sep=',')\n",
    "visitors['date'] = visitors['date'].map(lambda x: dt.datetime.strptime(x, '%Y-%m-%d'))\n",
    "\n",
    "# Mostrando las primeras 5 filas de ambas tablas\n",
    "display(orders.head())\n",
    "display(visitors.head())"
   ]
  },
  {
   "cell_type": "markdown",
   "metadata": {},
   "source": [
    "Una vez cargados los datos analizaremos la información obtenida. \n",
    "\n",
    "## <a id='toc5_1_'></a>[Ingresos acumulados por grupo](#toc0_)\n",
    "\n",
    "A continuación mostraremos los ingresos acumulados por grupo y lo representaremos gráficamente. Para ello primeramente obtendremos los datos diarios acumulados sobre los pedidos y visitantes."
   ]
  },
  {
   "cell_type": "code",
   "execution_count": 8,
   "metadata": {},
   "outputs": [
    {
     "data": {
      "text/html": [
       "<div>\n",
       "<style scoped>\n",
       "    .dataframe tbody tr th:only-of-type {\n",
       "        vertical-align: middle;\n",
       "    }\n",
       "\n",
       "    .dataframe tbody tr th {\n",
       "        vertical-align: top;\n",
       "    }\n",
       "\n",
       "    .dataframe thead th {\n",
       "        text-align: right;\n",
       "    }\n",
       "</style>\n",
       "<table border=\"1\" class=\"dataframe\">\n",
       "  <thead>\n",
       "    <tr style=\"text-align: right;\">\n",
       "      <th></th>\n",
       "      <th>date</th>\n",
       "      <th>group</th>\n",
       "      <th>orders</th>\n",
       "      <th>buyers</th>\n",
       "      <th>revenue</th>\n",
       "      <th>visitors</th>\n",
       "    </tr>\n",
       "  </thead>\n",
       "  <tbody>\n",
       "    <tr>\n",
       "      <th>0</th>\n",
       "      <td>2019-08-01</td>\n",
       "      <td>A</td>\n",
       "      <td>24</td>\n",
       "      <td>20</td>\n",
       "      <td>2356.8</td>\n",
       "      <td>719</td>\n",
       "    </tr>\n",
       "    <tr>\n",
       "      <th>1</th>\n",
       "      <td>2019-08-01</td>\n",
       "      <td>B</td>\n",
       "      <td>21</td>\n",
       "      <td>20</td>\n",
       "      <td>1620.0</td>\n",
       "      <td>713</td>\n",
       "    </tr>\n",
       "    <tr>\n",
       "      <th>2</th>\n",
       "      <td>2019-08-02</td>\n",
       "      <td>A</td>\n",
       "      <td>44</td>\n",
       "      <td>38</td>\n",
       "      <td>3860.3</td>\n",
       "      <td>1338</td>\n",
       "    </tr>\n",
       "    <tr>\n",
       "      <th>3</th>\n",
       "      <td>2019-08-02</td>\n",
       "      <td>B</td>\n",
       "      <td>45</td>\n",
       "      <td>43</td>\n",
       "      <td>4243.8</td>\n",
       "      <td>1294</td>\n",
       "    </tr>\n",
       "    <tr>\n",
       "      <th>4</th>\n",
       "      <td>2019-08-03</td>\n",
       "      <td>A</td>\n",
       "      <td>68</td>\n",
       "      <td>62</td>\n",
       "      <td>5675.5</td>\n",
       "      <td>1845</td>\n",
       "    </tr>\n",
       "  </tbody>\n",
       "</table>\n",
       "</div>"
      ],
      "text/plain": [
       "        date group  orders  buyers  revenue  visitors\n",
       "0 2019-08-01     A      24      20   2356.8       719\n",
       "1 2019-08-01     B      21      20   1620.0       713\n",
       "2 2019-08-02     A      44      38   3860.3      1338\n",
       "3 2019-08-02     B      45      43   4243.8      1294\n",
       "4 2019-08-03     A      68      62   5675.5      1845"
      ]
     },
     "metadata": {},
     "output_type": "display_data"
    }
   ],
   "source": [
    "# Creamos una matiz con valores únicos de parejas Fecha-Grupo\n",
    "datesGroups = orders[['date', 'group']].drop_duplicates()\n",
    "\n",
    "# Obtenemos los datos diarios acumulados agregados sobre los pedidos\n",
    "ordersAggregated = datesGroups.apply(\n",
    "    lambda x: \n",
    "        orders[np.logical_and(\n",
    "            orders['date'] <= x['date'], orders['group'] == x['group'])].agg(\n",
    "                {'date': 'max',\n",
    "                'group': 'max',\n",
    "                'transactionId': pd.Series.nunique,\n",
    "                'visitorId': pd.Series.nunique,\n",
    "                'revenue': 'sum'}\n",
    "        ), axis=1).sort_values(by=['date','group'])\n",
    "\n",
    "# Obtenemos los datos diarios acumulados agregados sobre los visitantes\n",
    "visitorsAggregates = datesGroups.apply(\n",
    "    lambda x:\n",
    "        visitors[np.logical_and(\n",
    "            visitors['date'] <= x['date'], visitors['group'] == x['group'])].agg(\n",
    "                {'date': 'max',\n",
    "                'group': 'max',\n",
    "                'visits': 'sum'}\n",
    "            ), axis=1).sort_values(by=['date','group'])\n",
    "\n",
    "# Fusionamos las dos tablas en una y daremos nombres mas descriptivos a sus columnas\n",
    "cumulativeData = ordersAggregated.merge(\n",
    "    visitorsAggregates, left_on=['date', 'group'], right_on=['date', 'group'])\n",
    "cumulativeData.columns = ['date', 'group', 'orders', 'buyers', 'revenue', 'visitors']\n",
    "\n",
    "# Mostramos la tabla de la información acumulada\n",
    "display(cumulativeData.head())"
   ]
  },
  {
   "cell_type": "markdown",
   "metadata": {},
   "source": [
    "Una vez teniendo estos resultados podemos crear los gráficos de ingresos acumulados por día y grupo de la prueba A/B:"
   ]
  },
  {
   "cell_type": "code",
   "execution_count": 9,
   "metadata": {},
   "outputs": [
    {
     "data": {
      "text/plain": [
       "<matplotlib.legend.Legend at 0x23f7d7b9fd0>"
      ]
     },
     "execution_count": 9,
     "metadata": {},
     "output_type": "execute_result"
    },
    {
     "data": {
      "image/png": "[encoded data removed]",
      "text/plain": [
       "<Figure size 640x480 with 1 Axes>"
      ]
     },
     "metadata": {},
     "output_type": "display_data"
    }
   ],
   "source": [
    "# Creamos un Dataframe con pedidos acumulados e ingresos acumulados por dia, grupo A\n",
    "cumulativeRevenueA = cumulativeData[cumulativeData['group']=='A'][['date', 'revenue', 'orders']]\n",
    "\n",
    "# Creamos un Dataframe con pedidos acumulados e ingresos acumulados por dia, grupo B\n",
    "cumulativeRevenueB = cumulativeData[cumulativeData['group']=='B'][['date', 'revenue', 'orders']]\n",
    "\n",
    "# Trazamos el gráfico de ingresos del grupo A\n",
    "plt.plot(cumulativeRevenueA['date'], cumulativeRevenueA['revenue'], label='A')\n",
    "\n",
    "# Trazamos el gráfico de ingresos del grupo B\n",
    "plt.plot(cumulativeRevenueB['date'], cumulativeRevenueB['revenue'], label='B')\n",
    "\n",
    "plt.xticks(rotation=300)\n",
    "plt.legend()"
   ]
  },
  {
   "cell_type": "markdown",
   "metadata": {},
   "source": [
    "Como podemos ver, los ingresos aumentan constantemente durante toda la prueba, sin embargo notamos un aumento de ingresos por parte del grupo \"B\" entre las fechas 17-08-2019 y 21-08-2019 mostrando una clara ventaja sobre los resultados del grupo \"A\". Este comportamiento pudo haberse visto retrasado por que puede que en los primeros días se recabaron los correos y en el momento donde se vio el pico al alza fue cuando se empezaron a mandar correos a la lista recabada. \n",
    "\n",
    "## <a id='toc5_2_'></a>[Tamaño de pedidos acumulados por grupo](#toc0_)\n",
    "\n",
    "A continuación usaremos la tabla generada en la sección pasada para generar las gráficas del comportamiento de ambos grupos en relación a los pedidos acumulados. "
   ]
  },
  {
   "cell_type": "code",
   "execution_count": 10,
   "metadata": {},
   "outputs": [
    {
     "data": {
      "text/plain": [
       "<matplotlib.legend.Legend at 0x23f00089b10>"
      ]
     },
     "execution_count": 10,
     "metadata": {},
     "output_type": "execute_result"
    },
    {
     "data": {
      "image/png": "[encoded data removed]",
      "text/plain": [
       "<Figure size 640x480 with 1 Axes>"
      ]
     },
     "metadata": {},
     "output_type": "display_data"
    }
   ],
   "source": [
    "# Trazamos el gráfico de pedidos del grupo A\n",
    "plt.plot(cumulativeRevenueA['date'], cumulativeRevenueA['revenue']/cumulativeRevenueA['orders'], label='A')\n",
    "\n",
    "# Trazamos el gráfico de pedidos del grupo B\n",
    "plt.plot(cumulativeRevenueB['date'], cumulativeRevenueB['revenue']/cumulativeRevenueB['orders'], label='B')\n",
    "\n",
    "plt.xticks(rotation=300)\n",
    "plt.legend()"
   ]
  },
  {
   "cell_type": "markdown",
   "metadata": {},
   "source": [
    "Como podemos ver en los resultados, vemos que el tamaño de pedidos para ambos pedidos se llegan a estabilizar casi al final de la prueba, sin embargo también logramos notar que al principio el tamaño de pedidos para el grupo B empezó abajo y el grupo A arriba, poco tiempo después cambiaron de lugar, casi al final notamos un gran pico por parte del grupo B.\n",
    "\n",
    "Sin embargo notamos que en los resultados obtenidos hay varios picos en algunos puntos, esto se puede deber a valore atípicos en la información. Analizaremos ese aspecto mas adelante. \n",
    "\n",
    "## <a id='toc5_3_'></a>[Diferencia relativa en el tamaño de pedido](#toc0_)\n",
    "\n",
    "Representaremos a continuación la diferencia relativa en el tamaño de pedido promedio acumulado para el grupo B en comparación con el grupo A."
   ]
  },
  {
   "cell_type": "code",
   "execution_count": 11,
   "metadata": {},
   "outputs": [
    {
     "data": {
      "text/plain": [
       "(array([18109., 18113., 18117., 18121., 18125., 18129., 18133., 18137.,\n",
       "        18140.]),\n",
       " [Text(18109.0, 0, '2019-08-01'),\n",
       "  Text(18113.0, 0, '2019-08-05'),\n",
       "  Text(18117.0, 0, '2019-08-09'),\n",
       "  Text(18121.0, 0, '2019-08-13'),\n",
       "  Text(18125.0, 0, '2019-08-17'),\n",
       "  Text(18129.0, 0, '2019-08-21'),\n",
       "  Text(18133.0, 0, '2019-08-25'),\n",
       "  Text(18137.0, 0, '2019-08-29'),\n",
       "  Text(18140.0, 0, '2019-09-01')])"
      ]
     },
     "execution_count": 11,
     "metadata": {},
     "output_type": "execute_result"
    },
    {
     "data": {
      "image/png": "[encoded data removed]",
      "text/plain": [
       "<Figure size 640x480 with 1 Axes>"
      ]
     },
     "metadata": {},
     "output_type": "display_data"
    }
   ],
   "source": [
    "# Reunimos los datos en un Dataframe\n",
    "mergedCumulativeRevenue = cumulativeRevenueA.merge(\n",
    "    cumulativeRevenueB,\n",
    "    left_on = 'date',\n",
    "    right_on='date',\n",
    "    how='left',\n",
    "    suffixes=['A','B'])\n",
    "\n",
    "# Trazamos un gráfico de diferencia relativa para los tamaños de compra promedio \n",
    "plt.plot(mergedCumulativeRevenue['date'],\n",
    "        (mergedCumulativeRevenue['revenueB']/mergedCumulativeRevenue['ordersB'])/(mergedCumulativeRevenue['revenueA']/mergedCumulativeRevenue['ordersA'])-1\n",
    "        )\n",
    "\n",
    "# Agregamos el eje X\n",
    "plt.axhline(y=0, color='black', linestyle='--')\n",
    "plt.xticks(rotation=300)"
   ]
  },
  {
   "cell_type": "markdown",
   "metadata": {},
   "source": [
    "Como podemos ver, la diferencia entre los segmentos aumenta. Lo cual significa que deben de haver algunos pedidos grandes y valores atípicos entre la información.\n",
    "\n",
    "## <a id='toc5_4_'></a>[Tasa de Conversión de cada grupo](#toc0_)\n",
    "\n",
    "En esta sección calcularemos la tasa de conversion de cada grupo como la relación de pedido y número de visitas de cada día, adicional a esto gráficaremos la relación y analizaremos los resultados."
   ]
  },
  {
   "cell_type": "code",
   "execution_count": 40,
   "metadata": {},
   "outputs": [
    {
     "data": {
      "text/plain": [
       "(18109.0, 18139.0, 0.01, 0.05)"
      ]
     },
     "execution_count": 40,
     "metadata": {},
     "output_type": "execute_result"
    },
    {
     "data": {
      "image/png": "[encoded data removed]",
      "text/plain": [
       "<Figure size 640x480 with 1 Axes>"
      ]
     },
     "metadata": {},
     "output_type": "display_data"
    }
   ],
   "source": [
    "# Calculamos la conversión acumulada\n",
    "cumulativeData['conversion'] = cumulativeData['orders']/cumulativeData['visitors']\n",
    "\n",
    "# Separamos por grupo A\n",
    "cumulativeDataA = cumulativeData[cumulativeData['group'] == 'A']\n",
    "\n",
    "# Separamos por grupo B\n",
    "cumulativeDataB = cumulativeData[cumulativeData['group'] == 'B']\n",
    "\n",
    "# Trazamos los gráficos\n",
    "plt.plot(cumulativeDataA['date'], cumulativeDataA['conversion'], label = 'A')\n",
    "plt.plot(cumulativeDataB['date'], cumulativeDataB['conversion'], label = 'B')\n",
    "plt.legend()\n",
    "plt.xticks(rotation=300)\n",
    "\n",
    "# Establecemos la escala de los ejes \n",
    "plt.axis([pd.to_datetime('2019-08-01'), pd.to_datetime('2019-08-31'), 0.01, 0.05])"
   ]
  },
  {
   "cell_type": "markdown",
   "metadata": {},
   "source": [
    "Al inicio de la prueba notamos que el grupo A tiene una tasa de conversión mas alta que el grupo B, sin embargo vemos que mas adelante el grupo B aumento su conversión y del grupo A disminuyo, ambos grupos después de este cambio se estabilizaron en un valor casi constante.\n",
    "\n",
    "## <a id='toc5_5_'></a>[Gráficando el numero de pedidos por usuario](#toc0_)\n",
    "\n",
    "Para esta sección plantearemos representar los números de pedidos en una gráfica de dispersión para poder visualizar los valores atípicos de la información. Primeramente buscaremos el numero de pedidos por usuario e imprimiremos el resultado."
   ]
  },
  {
   "cell_type": "code",
   "execution_count": 13,
   "metadata": {},
   "outputs": [
    {
     "name": "stdout",
     "output_type": "stream",
     "text": [
      "          userId  orders\n",
      "1023  4256040402      11\n",
      "591   2458001652      11\n",
      "569   2378935119       9\n",
      "487   2038680547       8\n",
      "44     199603092       5\n",
      "744   3062433592       5\n",
      "55     237748145       5\n",
      "917   3803269165       5\n",
      "299   1230306981       5\n",
      "897   3717692402       5\n"
     ]
    }
   ],
   "source": [
    "# Aislamos los números de pedidos por usuario\n",
    "ordersByUsers = (\n",
    "    orders.drop(['group', 'revenue', 'date'], axis=1)\n",
    "    .groupby('visitorId', as_index=False)\n",
    "    .agg({'transactionId': pd.Series.nunique})\n",
    ")\n",
    "\n",
    "# Renombramos las columnas con nombres mas descriptivos\n",
    "ordersByUsers.columns = ['userId', 'orders']\n",
    "\n",
    "# Imprimimos el resultado\n",
    "print(ordersByUsers.sort_values(by='orders', ascending=False).head(10))"
   ]
  },
  {
   "cell_type": "markdown",
   "metadata": {},
   "source": [
    "Como podemos ver en esta tabla, notamos algunos usuarios que llegaron a realizar desde 5, 8, 9 y 11 pedidos. "
   ]
  },
  {
   "cell_type": "code",
   "execution_count": 14,
   "metadata": {},
   "outputs": [
    {
     "data": {
      "image/png": "[encoded data removed]",
      "text/plain": [
       "<Figure size 640x480 with 1 Axes>"
      ]
     },
     "metadata": {},
     "output_type": "display_data"
    }
   ],
   "source": [
    "# Trazando el gráfico de dispersión\n",
    "x_values = pd.Series(range(0, len(ordersByUsers)))\n",
    "plt.scatter(x_values, ordersByUsers['orders'])\n",
    "plt.show()"
   ]
  },
  {
   "cell_type": "markdown",
   "metadata": {},
   "source": [
    "Como podemos ver en la gráfica, los usuarios suelen pedir de uno a tres pedidos, los usuarios que hacen 4 pedidos o mas ya no son tan frecuentes, sin embargo para los usuarios que pidieron cuatro a cinco pedidos todavía no conocemos la proporción exacta y no esta claro si debemos de considerarlos anomalías. A continuación calcularemos los percentiles para el numero de pedidos por usuario para confirmar los resultados. \n",
    "\n",
    "## <a id='toc5_6_'></a>[Calculo de percentiles 95 y 99 para el numero de pedidos por usuario](#toc0_)\n",
    "\n",
    "El objetivo de esta sección es definir el punto en el cual el numero de pedidos por usuario se vuelve una anomalía. "
   ]
  },
  {
   "cell_type": "code",
   "execution_count": 16,
   "metadata": {},
   "outputs": [
    {
     "name": "stdout",
     "output_type": "stream",
     "text": [
      "Los percentiles 90 y 95 del numero de pedidos por usuario son:  [1. 2. 4.]\n"
     ]
    }
   ],
   "source": [
    "# Calculamos los percentiles 90, 95 y 99\n",
    "print(\"Los percentiles 90, 95 y 99 del numero de pedidos por usuario son: \", \n",
    "    np.percentile(ordersByUsers['orders'], [90, 95, 99]))"
   ]
  },
  {
   "cell_type": "markdown",
   "metadata": {},
   "source": [
    "Como podemos ver, no mas del 5% de los usuarios pidieron mas de 2 pedidos y el 10% de los usuarios realizaron más de 1, por lo que estableceremos el limite en 2 o 3 pedidos por usuario.\n",
    "\n",
    "A continuación mostraremos los mismos resultados para observar los valores atípicos de los precios de los pedidos.\n",
    "\n",
    "## <a id='toc5_7_'></a>[Gráficando precio de pedidos](#toc0_)\n",
    "\n",
    "En esta sección representaremos el precio de los pedidos en una gráfica de dispersión para detectar valores atípicos. "
   ]
  },
  {
   "cell_type": "code",
   "execution_count": 17,
   "metadata": {},
   "outputs": [
    {
     "data": {
      "text/plain": [
       "<matplotlib.collections.PathCollection at 0x23f006b1fd0>"
      ]
     },
     "execution_count": 17,
     "metadata": {},
     "output_type": "execute_result"
    },
    {
     "data": {
      "image/png": "[encoded data removed]",
      "text/plain": [
       "<Figure size 640x480 with 1 Axes>"
      ]
     },
     "metadata": {},
     "output_type": "display_data"
    }
   ],
   "source": [
    "# Aislamos el precio de los pedidos\n",
    "x_values = pd.Series(range(0, len(orders['revenue'])))\n",
    "\n",
    "# Hacemos la gráfica de dispersión\n",
    "plt.scatter(x_values, orders['revenue'])"
   ]
  },
  {
   "cell_type": "markdown",
   "metadata": {},
   "source": [
    "La gráfica muestra dos valores que sobresalen de los demás aproximadamente en los $3 000 y en $20 000. En seguida calcularemos los percentiles para este apartado. \n",
    "\n",
    "## <a id='toc5_8_'></a>[Calculo de Percentiles 95 y 99 para el precio de pedido](#toc0_)\n"
   ]
  },
  {
   "cell_type": "code",
   "execution_count": 18,
   "metadata": {},
   "outputs": [
    {
     "name": "stdout",
     "output_type": "stream",
     "text": [
      "Los percentiles 90, 95 y 99 del precio de pedido son:  [282.48  435.54  900.904]\n"
     ]
    }
   ],
   "source": [
    "# Calculando los percentiles 90, 95 y 99 para el precio de pedido\n",
    "print(\"Los percentiles 90, 95 y 99 del precio de pedido son: \",\n",
    "    np.percentile(orders['revenue'], [90, 95, 99]))"
   ]
  },
  {
   "cell_type": "markdown",
   "metadata": {},
   "source": [
    "Como podemos apreciar en los resultados, no mas del 5% de los pedidos cuestan más de $435 y no mas del 1% cuestan más de $900 por lo que podemos establecer como limite el valor de $435.\n",
    "\n",
    "## <a id='toc5_9_'></a>[Significancia estadística de la diferencia en la conversión de los dos grupos (Datos en Bruto)](#toc0_)\n",
    "\n",
    "En esta sección encontraremos la significancia estadística de la diferencia en la conversión entre los grupos utilizando los datos en bruto. Para ello crearemos dos variables `ordersByUsersA` y `ordersByUsersB` para almacenar las columnas `transactionId` y `visitorId` de los grupos \"A\" y \"B\"."
   ]
  },
  {
   "cell_type": "code",
   "execution_count": 21,
   "metadata": {},
   "outputs": [
    {
     "data": {
      "text/html": [
       "<div>\n",
       "<style scoped>\n",
       "    .dataframe tbody tr th:only-of-type {\n",
       "        vertical-align: middle;\n",
       "    }\n",
       "\n",
       "    .dataframe tbody tr th {\n",
       "        vertical-align: top;\n",
       "    }\n",
       "\n",
       "    .dataframe thead th {\n",
       "        text-align: right;\n",
       "    }\n",
       "</style>\n",
       "<table border=\"1\" class=\"dataframe\">\n",
       "  <thead>\n",
       "    <tr style=\"text-align: right;\">\n",
       "      <th></th>\n",
       "      <th>userId</th>\n",
       "      <th>orders</th>\n",
       "    </tr>\n",
       "  </thead>\n",
       "  <tbody>\n",
       "    <tr>\n",
       "      <th>0</th>\n",
       "      <td>8300375</td>\n",
       "      <td>1</td>\n",
       "    </tr>\n",
       "    <tr>\n",
       "      <th>1</th>\n",
       "      <td>11685486</td>\n",
       "      <td>1</td>\n",
       "    </tr>\n",
       "    <tr>\n",
       "      <th>2</th>\n",
       "      <td>54447517</td>\n",
       "      <td>1</td>\n",
       "    </tr>\n",
       "    <tr>\n",
       "      <th>3</th>\n",
       "      <td>66685450</td>\n",
       "      <td>1</td>\n",
       "    </tr>\n",
       "    <tr>\n",
       "      <th>4</th>\n",
       "      <td>78758296</td>\n",
       "      <td>1</td>\n",
       "    </tr>\n",
       "  </tbody>\n",
       "</table>\n",
       "</div>"
      ],
      "text/plain": [
       "     userId  orders\n",
       "0   8300375       1\n",
       "1  11685486       1\n",
       "2  54447517       1\n",
       "3  66685450       1\n",
       "4  78758296       1"
      ]
     },
     "metadata": {},
     "output_type": "display_data"
    },
    {
     "data": {
      "text/html": [
       "<div>\n",
       "<style scoped>\n",
       "    .dataframe tbody tr th:only-of-type {\n",
       "        vertical-align: middle;\n",
       "    }\n",
       "\n",
       "    .dataframe tbody tr th {\n",
       "        vertical-align: top;\n",
       "    }\n",
       "\n",
       "    .dataframe thead th {\n",
       "        text-align: right;\n",
       "    }\n",
       "</style>\n",
       "<table border=\"1\" class=\"dataframe\">\n",
       "  <thead>\n",
       "    <tr style=\"text-align: right;\">\n",
       "      <th></th>\n",
       "      <th>userId</th>\n",
       "      <th>orders</th>\n",
       "    </tr>\n",
       "  </thead>\n",
       "  <tbody>\n",
       "    <tr>\n",
       "      <th>0</th>\n",
       "      <td>5114589</td>\n",
       "      <td>1</td>\n",
       "    </tr>\n",
       "    <tr>\n",
       "      <th>1</th>\n",
       "      <td>6958315</td>\n",
       "      <td>1</td>\n",
       "    </tr>\n",
       "    <tr>\n",
       "      <th>2</th>\n",
       "      <td>8300375</td>\n",
       "      <td>1</td>\n",
       "    </tr>\n",
       "    <tr>\n",
       "      <th>3</th>\n",
       "      <td>39475350</td>\n",
       "      <td>1</td>\n",
       "    </tr>\n",
       "    <tr>\n",
       "      <th>4</th>\n",
       "      <td>47206413</td>\n",
       "      <td>1</td>\n",
       "    </tr>\n",
       "  </tbody>\n",
       "</table>\n",
       "</div>"
      ],
      "text/plain": [
       "     userId  orders\n",
       "0   5114589       1\n",
       "1   6958315       1\n",
       "2   8300375       1\n",
       "3  39475350       1\n",
       "4  47206413       1"
      ]
     },
     "metadata": {},
     "output_type": "display_data"
    }
   ],
   "source": [
    "# Creando las variables \"ordersByUsersA\" y \"ordersByUsersB\"\n",
    "ordersByUsersA = (orders[orders['group'] == 'A']\n",
    "                .groupby('visitorId', as_index=False)\n",
    "                .agg({'transactionId': pd.Series.nunique}))\n",
    "# Renombramos las columnas por nombres mas descriptivos\n",
    "ordersByUsersA.columns = ['userId', 'orders']\n",
    "\n",
    "ordersByUsersB = (orders[orders['group'] == 'B']\n",
    "                .groupby('visitorId', as_index=False)\n",
    "                .agg({'transactionId': pd.Series.nunique}))\n",
    "# Renombramos las columnas por nombres mas descriptivos\n",
    "ordersByUsersB.columns = ['userId', 'orders']\n",
    "\n",
    "# Mostramos las variables\n",
    "display(ordersByUsersA.head(5))\n",
    "display(ordersByUsersB.head(5))"
   ]
  },
  {
   "cell_type": "markdown",
   "metadata": {},
   "source": [
    "Ahora crearemos dos variables llamadas `sampleA` y `sampleB` las cuales contendrán los números de pedidos correspondientes. Los usuarios que no pidieron nada tendrán un 0."
   ]
  },
  {
   "cell_type": "code",
   "execution_count": 24,
   "metadata": {},
   "outputs": [],
   "source": [
    "# Creando las variables \"sampleA\" y \"sampleB\"\n",
    "sampleA = pd.concat([ordersByUsersA['orders'],\n",
    "                    pd.Series(0, index=np.arange(\n",
    "                        visitors[visitors['group'] == 'A']['visits'].sum() - len(ordersByUsersA['orders'])),\n",
    "                            name='orders')], axis=0)\n",
    "\n",
    "sampleB = pd.concat([ordersByUsersB['orders'],\n",
    "                    pd.Series(0, index=np.arange(\n",
    "                        visitors[visitors['group'] == 'B']['visits'].sum() - len(ordersByUsersB['orders'])),\n",
    "                            name='orders')], axis=0)\n"
   ]
  },
  {
   "cell_type": "markdown",
   "metadata": {},
   "source": [
    "Para poder identificar la diferencia relativa haremos uso de la prueba U de Mann-Whitney. Esta prueba nos ayudara a clasificar dos muestras en orden ascendente y comparar los rangos de valores que aparecen en ambas muestras. Si las diferencias entre sus rangos son las mismas de una muestra a la otra, esto significa que el cambio es típico. Eso significa que simplemente agregaron algunos valores, lo que provocó que el resto cambiase. \n",
    "\n",
    "A continuación vamos a imprimir la ganancia relativa de conversión para el grupo B. "
   ]
  },
  {
   "cell_type": "code",
   "execution_count": 33,
   "metadata": {},
   "outputs": [
    {
     "name": "stdout",
     "output_type": "stream",
     "text": [
      "Valor P: 0.017\n",
      "La diferencia es estilísticamente significativa.\n",
      "La diferencia relativa en el tamaño promedio de pedido es: 0.138\n"
     ]
    }
   ],
   "source": [
    "# Establecemos Alpha\n",
    "alpha = 0.05\n",
    "\n",
    "# Hacemos la prueba U de Mann-Whitney\n",
    "results = stats.mannwhitneyu(sampleA, sampleB)\n",
    "\n",
    "print('Valor P: {0:.3f}'.format(results.pvalue))\n",
    "\n",
    "# Corroboramos si hay una diferencia estadística\n",
    "if (results.pvalue < alpha):\n",
    "    print(\"La diferencia es estilísticamente significativa.\")\n",
    "else:\n",
    "    print(\"No podemos sacar conclusiones sobre la diferencia.\")\n",
    "\n",
    "# Mostramos la significancia estadística \n",
    "print(\"La diferencia relativa en el tamaño promedio de pedido es: {0:.3f}\".format(sampleB.mean()/sampleA.mean()-1))"
   ]
  },
  {
   "cell_type": "markdown",
   "metadata": {},
   "source": [
    "Después de realizar la prueba notamos que el valor p es menor al nivel de significancia de 0.05, lo que nos dice que hay una diferencia estilísticamente significativa en la conversión entre los grupos. También podemos ver un aumento relativo de 13.8% del grupo B. \n",
    "\n",
    "## <a id='toc5_10_'></a>[Significancia estadística de la diferencia en el tamaño promedio entre los grupos (Datos en bruto)](#toc0_)\n",
    "\n",
    "Con las variables obtenidas, calcularemos ahora la significancia estadística de la diferencia en el tamaño promedio de pedido entre los dos grupos. "
   ]
  },
  {
   "cell_type": "code",
   "execution_count": 35,
   "metadata": {},
   "outputs": [
    {
     "name": "stdout",
     "output_type": "stream",
     "text": [
      "Valor P: 0.692\n",
      "No podemos sacar conclusiones sobre la diferencia.\n",
      "La diferencia relativa en el tamaño promedio de pedido es: 0.252\n"
     ]
    }
   ],
   "source": [
    "# Hacemos la prueba U de Mann-Whitney para el tamaño promedio entre los dos grupos\n",
    "results = stats.mannwhitneyu(orders[orders['group']=='A']['revenue'], orders[orders['group']=='B']['revenue'])\n",
    "\n",
    "print('Valor P: {0:.3f}'.format(results.pvalue))\n",
    "\n",
    "# Corroboramos si hay una diferencia estadística\n",
    "if (results.pvalue < alpha):\n",
    "    print(\"La diferencia es estilísticamente significativa.\")\n",
    "else:\n",
    "    print(\"No podemos sacar conclusiones sobre la diferencia.\")    \n",
    "\n",
    "# Mostramos la diferencia relativa en el tamaño promedio de pedido entre los grupos\n",
    "print(\"La diferencia relativa en el tamaño promedio de pedido es: {0:.3f}\".format(orders[orders['group'] == 'B']['revenue'].mean() / orders[orders['group'] == 'A']['revenue'].mean()-1))"
   ]
  },
  {
   "cell_type": "markdown",
   "metadata": {},
   "source": [
    "El valor p de la prueba realizada es considerablemente mayor por lo que no podemos rechazar la hipótesis nula y concluir que el tamaño medio de los pedido difiere entre los grupos. También podemos notar un aumento en el tamaño de pedido promedio para el grupo B de un 25.2%.\n",
    "\n",
    "## <a id='toc5_11_'></a>[Significancia estadística de la diferencia en la conversión de los dos grupos (Datos filtrados)](#toc0_)\n",
    "\n",
    "Volveremos a hacer las pruebas de significancia estadística de la diferencia en la conversión filtrando los datos tomando en consideración la información obtenida de usuarios anómalos. \n",
    "\n",
    "En base a la información obtenida eliminaremos del 1% al 5% de los usuarios con pedidos más caros y del 1% al 5% de los usuarios con mayor número de pedidos. Entonces crearemos slices de datos con usuarios que realizaron mas de tres pedidos y los usuarios que realizaron pedidos por mas de $500. Al final uniremos estos dos slices y calcularemos la significancia estadística. "
   ]
  },
  {
   "cell_type": "code",
   "execution_count": 37,
   "metadata": {},
   "outputs": [
    {
     "data": {
      "text/plain": [
       "1099    148427295\n",
       "18      199603092\n",
       "928     204675465\n",
       "23      237748145\n",
       "684     358944393\n",
       "dtype: int64"
      ]
     },
     "metadata": {},
     "output_type": "display_data"
    },
    {
     "name": "stdout",
     "output_type": "stream",
     "text": [
      "(50,)\n"
     ]
    }
   ],
   "source": [
    "# Creando los slices\n",
    "usersWithManyOrders = pd.concat(\n",
    "    [ordersByUsersA[ordersByUsersA['orders'] > 3]['userId'],\n",
    "    ordersByUsersB[ordersByUsersB['orders'] > 3]['userId']],\n",
    "    axis = 0)\n",
    "usersWithExpensiveOrders = orders[orders['revenue'] > 500]['visitorId']\n",
    "\n",
    "# Unimos los slices\n",
    "abnormalUsers = pd.concat(\n",
    "    [usersWithManyOrders,usersWithExpensiveOrders],\n",
    "    axis=0).drop_duplicates().sort_values()\n",
    "\n",
    "display(abnormalUsers.head(5))\n",
    "print(abnormalUsers.shape)"
   ]
  },
  {
   "cell_type": "markdown",
   "metadata": {},
   "source": [
    "Como podemos ver, se encontraron 50 usuarios anómalos, ahora veremos que tanto impacto tuvieron estos usuarios en los resultados de la prueba."
   ]
  },
  {
   "cell_type": "code",
   "execution_count": 38,
   "metadata": {},
   "outputs": [
    {
     "name": "stdout",
     "output_type": "stream",
     "text": [
      "Valor P: 0.015\n",
      "La diferencia es estilísticamente significativa.\n",
      "La diferencia relativa en el tamaño promedio de pedido es: 0.154\n"
     ]
    }
   ],
   "source": [
    "# Obteniendo las muestras para la prueba\n",
    "sampleAFiltered = pd.concat(\n",
    "    [ordersByUsersA[np.logical_not(ordersByUsersA['userId'].isin(abnormalUsers))]['orders'],\n",
    "    pd.Series(0, index=np.arange(visitors[visitors['group']=='A']['visits'].sum() - len(ordersByUsersA['orders'])),\n",
    "            name='orders')], axis=0)\n",
    "\n",
    "sampleBFiltered = pd.concat(\n",
    "    [ordersByUsersB[np.logical_not(ordersByUsersB['userId'].isin(abnormalUsers))]['orders'],\n",
    "    pd.Series(0, index=np.arange(visitors[visitors['group']=='B']['visits'].sum() - len(ordersByUsersB['orders'])),\n",
    "            name='orders')], axis=0)\n",
    "\n",
    "# Aplicando el criterio estadístico de Mann-Whitney a las muestras\n",
    "results = stats.mannwhitneyu(sampleAFiltered, sampleBFiltered)\n",
    "\n",
    "print('Valor P: {0:.3f}'.format(results.pvalue))\n",
    "\n",
    "# Corroboramos si hay una diferencia estadística\n",
    "if (results.pvalue < alpha):\n",
    "    print(\"La diferencia es estilísticamente significativa.\")\n",
    "else:\n",
    "    print(\"No podemos sacar conclusiones sobre la diferencia.\")\n",
    "\n",
    "# Mostramos la significancia estadística \n",
    "print(\"La diferencia relativa en el tamaño promedio de pedido es: {0:.3f}\".format(sampleBFiltered.mean()/sampleAFiltered.mean()-1))\n"
   ]
  },
  {
   "cell_type": "markdown",
   "metadata": {},
   "source": [
    "Los resultados de conversión casi no cambiaron. Ahora analicemos los valores del tamaño medio de los pedidos.\n",
    "\n",
    "## <a id='toc5_12_'></a>[Significancia estadística de la diferencia en el tamaño promedio entre los grupos (Datos en filtrados)](#toc0_)\n"
   ]
  },
  {
   "cell_type": "code",
   "execution_count": 39,
   "metadata": {},
   "outputs": [
    {
     "name": "stdout",
     "output_type": "stream",
     "text": [
      "Valor P: 0.852\n",
      "No podemos sacar conclusiones sobre la diferencia.\n",
      "La diferencia relativa en el tamaño promedio de pedido es: 0.013\n"
     ]
    }
   ],
   "source": [
    "# Hacemos la prueba U de Mann-Whitney para el tamaño promedio entre los dos grupos\n",
    "results = stats.mannwhitneyu(\n",
    "    orders[np.logical_and(orders['group']=='A',\n",
    "                        np.logical_not(orders['visitorId'].isin(abnormalUsers)))]['revenue'],\n",
    "    orders[np.logical_and(orders['group'] == 'B',\n",
    "                        np.logical_not(orders['visitorId'].isin(abnormalUsers)))]['revenue'])\n",
    "\n",
    "print('Valor P: {0:.3f}'.format(results.pvalue))\n",
    "\n",
    "# Corroboramos si hay una diferencia estadística\n",
    "if (results.pvalue < alpha):\n",
    "    print(\"La diferencia es estilísticamente significativa.\")\n",
    "else:\n",
    "    print(\"No podemos sacar conclusiones sobre la diferencia.\")    \n",
    "\n",
    "# Mostramos la diferencia relativa en el tamaño promedio de pedido entre los grupos\n",
    "print(\"La diferencia relativa en el tamaño promedio de pedido es: {0:.3f}\".format(\n",
    "    orders[np.logical_and(orders['group'] == 'B',\n",
    "                        np.logical_not(orders['visitorId'].isin(abnormalUsers)))]['revenue'].mean()/\n",
    "    orders[np.logical_and(orders['group']=='A',\n",
    "                        np.logical_not(orders['visitorId'].isin(abnormalUsers)))]['revenue'].mean() - 1))\n"
   ]
  },
  {
   "cell_type": "markdown",
   "metadata": {},
   "source": [
    "El valor P aumento pero ahora la diferencia entre los segmentos es del 1.3%. \n",
    "\n",
    "# <a id='toc6_'></a>[Conclusiones](#toc0_)\n",
    "\n",
    "Después de realizar esta investigación notamos que la prueba A/B presento los siguientes resultados:\n",
    "\n",
    "* El grupo B presento un aumento de ingresos asi como en el tamaño de pedidos a partir de la 3ra semana del comienzo de la prueba, esto pudiera deberse a que en las primeras 2 semanas que se recabo la información de los correos de los clientes a partir de la 3ra semana se vieron reflejado los resultados que provocaron los correos enviados a dichos usuarios. \n",
    "\n",
    "* Al inicio de la prueba la conversion entre los grupos fluctuaba un poco dando una ventaja al grupo A, sin embargo al comienzo de la segunda semana de la prueba el grupo B tomo la delantera llegando a un valor casi constante ya al final de la prueba mientras que el grupo A disminuyo y al igual que el grupo B se estabilizo en un valor casi constante ya al final de la prueba.\n",
    "\n",
    "* Se encontraron 50 usuarios con ingresos y pedidos anómalos sin embargo estos no tuvieron mucho significancia estadística que pudieran afectar los resultados de las pruebas. \n",
    "\n",
    "De acuerdo a estos resultados podríamos concluir que la prueba A/B de la hipótesis \"Añada un formulario de suscripción a todas las páginas principales. Esto le ayudará a compilar una lista de correos.(Add a subscription form to all the main pages. This will help you compile a mailing list)\", dio un resultado positivo, la prueba debería de ser parada y los cambios deberían de ser realizados."
   ]
  }
 ],
 "metadata": {
  "kernelspec": {
   "display_name": "Python 3",
   "language": "python",
   "name": "python3"
  },
  "language_info": {
   "codemirror_mode": {
    "name": "ipython",
    "version": 3
   },
   "file_extension": ".py",
   "mimetype": "text/x-python",
   "name": "python",
   "nbconvert_exporter": "python",
   "pygments_lexer": "ipython3",
   "version": "3.11.0"
  }
 },
 "nbformat": 4,
 "nbformat_minor": 2
}
